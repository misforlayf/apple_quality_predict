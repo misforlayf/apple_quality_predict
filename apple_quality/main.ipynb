{
 "cells": [
  {
   "cell_type": "code",
   "execution_count": null,
   "metadata": {},
   "outputs": [],
   "source": [
    "import pandas as pd\n",
    "from sklearn.model_selection import train_test_split\n",
    "from keras.models import Sequential\n",
    "from keras.layers import Dense, Dropout, Input\n",
    "from keras.optimizers import Adam\n",
    "from keras.callbacks import ModelCheckpoint, EarlyStopping\n",
    "from keras.losses import BinaryCrossentropy\n",
    "from keras.metrics import BinaryAccuracy\n",
    "\n",
    "# Veriyi oku\n",
    "df = pd.read_csv(\"apple_quality.csv\")\n",
    "\n",
    "# NaN değerleri say\n",
    "df.isna().sum()\n",
    "\n",
    "# Veri hakkında bilgi al\n",
    "df.info()\n",
    "\n",
    "# NaN değerleri içeren satırları sil\n",
    "df.dropna(inplace=True)\n",
    "\n",
    "# \"A_id\" sütununu kaldır\n",
    "df.drop(columns=\"A_id\", inplace=True)\n",
    "\n",
    "# Float olan sütunları int64 türüne dönüştür\n",
    "float_labels = [\"Size\", \"Weight\", \"Sweetness\", \"Crunchiness\", \"Juiciness\", \"Ripeness\"]\n",
    "for i in float_labels:\n",
    "    df[i] = df[i].astype('int64')\n",
    "\n",
    "# \"Acidity\" sütununu int64 türüne dönüştür, hata göz ardı edilecek\n",
    "df[\"Acidity\"] = pd.to_numeric(df[\"Acidity\"], errors='ignore')\n",
    "\n",
    "# \"Quality\" sütunundaki \"good\" ve \"bad\" değerlerini 1 ve 0'a dönüştür\n",
    "df[\"Quality\"] = df[\"Quality\"].replace({\"good\": 1, \"bad\": 0})\n",
    "\n",
    "# Veri setini özellikler ve hedef değişken olarak ayır\n",
    "X = df.drop(columns=\"Quality\", axis=1)\n",
    "y = df[\"Quality\"]\n",
    "\n",
    "# Eğitim ve test setlerine ayır\n",
    "X_train, X_test, y_train, y_test = train_test_split(X, y, random_state=16)\n",
    "\n",
    "# Model oluştur\n",
    "model = Sequential([\n",
    "    Input(shape=X_train.shape[1]),\n",
    "    Dense(170, activation=\"relu\"),\n",
    "    Dropout(0.1),\n",
    "    Dense(120, activation=\"relu\"),\n",
    "    Dense(50, activation=\"relu\"),\n",
    "    Dropout(0.2),\n",
    "    Dense(30, activation=\"relu\"),\n",
    "    Dense(2, activation=\"sigmoid\")\n",
    "])\n",
    "\n",
    "# Model özetini görüntüle\n",
    "model.summary()\n",
    "\n",
    "# Modeli derle\n",
    "model.compile(optimizer=Adam(), loss=BinaryCrossentropy(), metrics=[BinaryAccuracy()])\n",
    "\n",
    "# Modelin kontrol noktası ve erken durdurma için geri çağrılar\n",
    "model_checkpoint = ModelCheckpoint(\"model.h5\", monitor=\"val_loss\", save_best_only=True, save_weights_only=False)\n",
    "early_stopping = EarlyStopping(monitor=\"val_loss\", min_delta=0.2, patience=20)\n",
    "callbacks = [model_checkpoint, early_stopping]\n",
    "\n",
    "# Modeli eğit\n",
    "model.fit(X_train, y_train, batch_size=128, epochs=70, callbacks=callbacks, validation_split=0.2)\n"
   ]
  },
  {
   "cell_type": "code",
   "execution_count": null,
   "metadata": {},
   "outputs": [],
   "source": [
    "df.info()"
   ]
  },
  {
   "cell_type": "code",
   "execution_count": null,
   "metadata": {},
   "outputs": [],
   "source": [
    "print(X_test,y_test)"
   ]
  },
  {
   "cell_type": "code",
   "execution_count": null,
   "metadata": {},
   "outputs": [],
   "source": [
    "from keras.models import load_model\n",
    "\n",
    "model = load_model(\"model.h5\")"
   ]
  },
  {
   "cell_type": "code",
   "execution_count": null,
   "metadata": {},
   "outputs": [],
   "source": [
    "y_pred = model.predict(X_test)"
   ]
  },
  {
   "cell_type": "code",
   "execution_count": null,
   "metadata": {},
   "outputs": [],
   "source": [
    "import numpy as np"
   ]
  },
  {
   "cell_type": "code",
   "execution_count": null,
   "metadata": {},
   "outputs": [],
   "source": [
    "tahmin_ortalama = np.mean(y_pred)"
   ]
  },
  {
   "cell_type": "code",
   "execution_count": null,
   "metadata": {},
   "outputs": [],
   "source": [
    "apple=[]\n",
    "\n",
    "for i in y_pred:\n",
    "    if i > tahmin_ortalama:\n",
    "        apple.append(1)\n",
    "    else:\n",
    "        apple.append(0)"
   ]
  },
  {
   "cell_type": "code",
   "execution_count": null,
   "metadata": {},
   "outputs": [],
   "source": [
    "apple"
   ]
  },
  {
   "cell_type": "code",
   "execution_count": null,
   "metadata": {},
   "outputs": [],
   "source": [
    "y_test"
   ]
  },
  {
   "cell_type": "code",
   "execution_count": null,
   "metadata": {},
   "outputs": [],
   "source": []
  }
 ],
 "metadata": {
  "kernelspec": {
   "display_name": "Python 3",
   "language": "python",
   "name": "python3"
  },
  "language_info": {
   "codemirror_mode": {
    "name": "ipython",
    "version": 3
   },
   "file_extension": ".py",
   "mimetype": "text/x-python",
   "name": "python",
   "nbconvert_exporter": "python",
   "pygments_lexer": "ipython3",
   "version": "3.11.5"
  }
 },
 "nbformat": 4,
 "nbformat_minor": 2
}
